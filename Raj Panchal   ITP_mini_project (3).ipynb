{
 "cells": [
  {
   "cell_type": "markdown",
   "metadata": {},
   "source": [
    "# <center>PGP Data Science Engineering</center>\n",
    "## <center>Introduction to Programming – Mini Project:</center>\n"
   ]
  },
  {
   "cell_type": "markdown",
   "metadata": {},
   "source": [
    "### Problem 1:\n",
    "\n",
    "1. Write a program to calculate area of shapes. Your program should be capable of calculating the area of a square, rectangle, triangle and a circle. The user should be presented with options to select the shape. Based on which shape is chosed by the user, the program should ask for the appropriate input and print the resulting area on the screen.\n",
    "\n",
    "When the program is run, the screen should display something like this:\n",
    "\n",
    "**Which shape would you like to calculate the area for? Please enter the option number-**<br>\n",
    "**1. Square**<br>\n",
    "**2. Rectangle**<br>\n",
    "**3. Triangle**<br>\n",
    "**4. Circle**<br>\n",
    "**Enter Option: _**\n",
    "\n",
    "Say the user enters the option 1.\n",
    "\n",
    "**Please enter the length of a side: _**\n",
    "\n",
    "If the user enters a value of 5. The output should be:\n",
    "\n",
    "**The area of the square is 25**\n",
    "\n",
    "This program should indicate that the input is invalid if the user enters a character instead of a number as input. For instance if the user enters a value of ‘a’ instead of 5 in the previous example the program should prompt:\n",
    "\n",
    "**Invalid input, please enter a number: _**\n"
   ]
  },
  {
   "cell_type": "code",
   "execution_count": 12,
   "metadata": {},
   "outputs": [
    {
     "name": "stdout",
     "output_type": "stream",
     "text": [
      "Which shape would you like to calculate the area for? Please enter the option number.\n",
      "\n",
      "1. Square\n",
      "2. Rectangle\n",
      "3. Triangle\n",
      "4. Circle\n",
      "Enter Option: _1\n",
      "Enter length of side:5\n",
      "Area of Square is: 25\n"
     ]
    }
   ],
   "source": [
    "# Creating using Define Function and calling funtion again and again till the input is correct\n",
    "\n",
    "def area_calculator():\n",
    "    shape=input(\"Which shape would you like to calculate the area for? Please enter the option number.\\n\\n1. Square\\n2. Rectangle\\n3. Triangle\\n4. Circle\\nEnter Option: _\")\n",
    "    area = 0\n",
    "    pie = 3.14\n",
    "    if shape == \"1\":\n",
    "        side = int(input(\"Enter length of side:\"))\n",
    "        area = area + (side ** 2)\n",
    "        print(\"Area of Square is:\",area)\n",
    "    elif shape == \"2\":\n",
    "        length = int(input(\"Enter the value of length: \"))\n",
    "        width = int(input(\"Enter the value of length: \"))\n",
    "        area = area + (length * width)\n",
    "        print(\"Area of Rectangle is:\",area)\n",
    "    elif shape == \"3\":\n",
    "        base = int(input(\"Enter the value of base: \"))\n",
    "        height = int(input(\"Enter the value of height: \"))\n",
    "        area = area +(0.5 * base * height)\n",
    "        print(\"Area of Traingle is:\",area)\n",
    "    elif shape == \"4\":\n",
    "        radius = int(input(\"Enter the value of radius: \"))\n",
    "        area = area + (2 * pie * radius)\n",
    "        print(\"Area of Circle is:\",area)\n",
    "    else:\n",
    "        print (\"Invalid input, please enter a number: _\")\n",
    "        area_calculator1 = area_calculator()\n",
    "        \n",
    "area_calculator()"
   ]
  },
  {
   "cell_type": "markdown",
   "metadata": {},
   "source": [
    "### Problem 2:\n",
    "\n",
    "Create and encrypter in python based on the ceaser cipher. It is a substitution cipher where each character of the original text is shifted a certain number characters in the alphabet. Write a function that would require 2 arguments – the input text to be encrypted and a key. For eg: Given the input text ‘hello’ and the key 3, the resulting encryted text would be ‘khoor’. Here you can see that every character in the string hello is shifted by 3 characters. ‘h’ has shifted to ‘k’, ‘e’ has shifted to ‘h’ and so on. If a key of 5 were used, the resulting string would be ‘mjqqt’. This function should be capable of ignoring any characters which are not alphabets. Th2 character ‘z’ entered b\n",
    "y the user for a key of 3 would result in ‘c’.\n",
    "\n",
    "Usage:<br>\n",
    "**encrypt(‘hello world!’, 3)**<br>\n",
    "**‘khoor zruog!’**\n",
    "\n",
    "Similarly create decrypter which can decode the encryted text when provided the input text and key\n",
    "\n",
    "Usage:<br>\n",
    "**decrypt(‘khoor zruog!’, 3)**<br>\n",
    "**‘hello world!’**\n",
    "\n",
    "For the sake of simplicity you can assume that input solely consists of lowercase alphabets, spaces and punctuation symbols. Numbers in the input text would also be ignored similar to symbols."
   ]
  },
  {
   "cell_type": "code",
   "execution_count": 11,
   "metadata": {},
   "outputs": [
    {
     "name": "stdout",
     "output_type": "stream",
     "text": [
      "khoor zruog!\n",
      "hello world!\n"
     ]
    }
   ],
   "source": [
    "# Creating Encryption function\n",
    "def encrypt(text,key):\n",
    "    cipher= ''\n",
    "    for ch in text.lower():\n",
    "        if ch in \"\"\"' !@$%^&*()_+=-[]{}\\|;:<>?/.,~`#'\"\"\":\n",
    "            cipher= cipher + ch\n",
    "        else:\n",
    "            cipher= cipher + chr((ord(ch) + key - 97)% 26 + 97)\n",
    "    return cipher\n",
    "\n",
    "\n",
    "#Creating Decryption function\n",
    "def decrypt(text,key):\n",
    "    cipher= ''\n",
    "    for ch in text.lower():\n",
    "        if ch in \"\"\"' !@$%^&*()_+=-[]{}\\|;:<>?/.,~`#'\"\"\":\n",
    "            cipher= cipher + ch\n",
    "        else:\n",
    "            cipher+=chr((ord(ch) - key - 97) % 26 + 97)\n",
    "    return cipher\n",
    "\n",
    "# Print For Output\n",
    "\n",
    "print(encrypt('hello world!',3))\n",
    "print(decrypt('khoor zruog!', 3))"
   ]
  },
  {
   "cell_type": "code",
   "execution_count": 14,
   "metadata": {},
   "outputs": [
    {
     "name": "stdout",
     "output_type": "stream",
     "text": [
      "mjqqt\n"
     ]
    }
   ],
   "source": [
    "print(encrypt('hello',5))"
   ]
  },
  {
   "cell_type": "code",
   "execution_count": 15,
   "metadata": {},
   "outputs": [
    {
     "name": "stdout",
     "output_type": "stream",
     "text": [
      "c\n"
     ]
    }
   ],
   "source": [
    "print(encrypt('z',3))"
   ]
  }
 ],
 "metadata": {
  "kernelspec": {
   "display_name": "Python 3",
   "language": "python",
   "name": "python3"
  },
  "language_info": {
   "codemirror_mode": {
    "name": "ipython",
    "version": 3
   },
   "file_extension": ".py",
   "mimetype": "text/x-python",
   "name": "python",
   "nbconvert_exporter": "python",
   "pygments_lexer": "ipython3",
   "version": "3.7.9"
  }
 },
 "nbformat": 4,
 "nbformat_minor": 2
}
